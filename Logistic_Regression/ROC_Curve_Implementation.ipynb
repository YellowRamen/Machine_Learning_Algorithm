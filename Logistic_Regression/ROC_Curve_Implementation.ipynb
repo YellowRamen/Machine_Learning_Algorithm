{
 "cells": [
  {
   "cell_type": "code",
   "execution_count": 1,
   "metadata": {
    "collapsed": true
   },
   "outputs": [],
   "source": [
    "import numpy as np"
   ]
  },
  {
   "cell_type": "code",
   "execution_count": 2,
   "metadata": {
    "collapsed": true
   },
   "outputs": [],
   "source": [
    "import numpy as np\n",
    "\n",
    "def roc_curve(probabilities, labels):\n",
    "    '''\n",
    "    INPUT: numpy array, numpy array\n",
    "    OUTPUT: list, list, list\n",
    "\n",
    "    Take a numpy array of the predicted probabilities and a numpy array of the\n",
    "    true labels.\n",
    "    Return the True Positive Rates, False Positive Rates and Thresholds for the\n",
    "    ROC curve.\n",
    "    '''\n",
    "    #identify what I want to return\n",
    "    TPR = []\n",
    "    FPR = []\n",
    "    threshold = []\n",
    "    \n",
    "    #making probabilities into a list rather than array\n",
    "    probabilities = probabilities.tolist()\n",
    "    \n",
    "    #make label into list as well\n",
    "    labels = labels.tolist()\n",
    "    \n",
    "    #Number of positive and negative cases\n",
    "    pos = len([item for item in labels if item == 1])\n",
    "    neg = len([item for item in labels if item == 0])\n",
    "    \n",
    "    #sorting it in increasing order\n",
    "    prob_sort = sorted(probabilities)\n",
    "    \n",
    "    #loop through the probabilities\n",
    "    for i in xrange(len(prob_sort)):\n",
    "        threshold.append(prob_sort[i])\n",
    "        placeholder = []\n",
    "        for item in prob_sort:\n",
    "            if item >= threshold[i]:\n",
    "                placeholder.append(1)\n",
    "            else:\n",
    "                placeholder.append(0)\n",
    "        TPR.append(len([item for item, item2 in zip(placeholder,labels) if (item == item2) and (item2 == 1)])/pos)\n",
    "        FPR.append(len([item for item, item2 in zip(placeholder,labels) if (item != item2) and (item2 == 0)])/neg)\n",
    "    return TPR, FPR, threshold\n"
   ]
  },
  {
   "cell_type": "code",
   "execution_count": null,
   "metadata": {
    "collapsed": true
   },
   "outputs": [],
   "source": []
  }
 ],
 "metadata": {
  "kernelspec": {
   "display_name": "Python 2",
   "language": "python",
   "name": "python2"
  },
  "language_info": {
   "codemirror_mode": {
    "name": "ipython",
    "version": 2
   },
   "file_extension": ".py",
   "mimetype": "text/x-python",
   "name": "python",
   "nbconvert_exporter": "python",
   "pygments_lexer": "ipython2",
   "version": "2.7.10"
  }
 },
 "nbformat": 4,
 "nbformat_minor": 0
}
