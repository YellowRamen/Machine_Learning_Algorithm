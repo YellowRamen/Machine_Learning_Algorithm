{
 "cells": [
  {
   "cell_type": "code",
   "execution_count": 2,
   "metadata": {
    "collapsed": true
   },
   "outputs": [],
   "source": [
    "import numpy as np"
   ]
  },
  {
   "cell_type": "code",
   "execution_count": 1,
   "metadata": {
    "collapsed": true
   },
   "outputs": [],
   "source": [
    "class GradientDescent(object):\n",
    "\n",
    "    def __init__(self, cost, gradient, predict):\n",
    "        '''\n",
    "        INPUT: GradientDescent, function, function, function\n",
    "        OUTPUT: None\n",
    "\n",
    "        Initialize class variables. Takes three functions:\n",
    "        cost: the cost function to be minimized\n",
    "        gradient: function to calculate the gradient of the cost function\n",
    "        predict: function to calculate the predicted values (0 or 1) for \n",
    "        the given data\n",
    "        '''\n",
    "        # Initialize coefficients in run method once you know how many features\n",
    "        # you have.\n",
    "        self.coeffs = None\n",
    "        #the cost function\n",
    "        self.cost = cost\n",
    "        #the gradient function\n",
    "        self.gradient = gradient\n",
    "        #the predict function\n",
    "        self.predict = predict\n",
    "\n",
    "    def run(self, X, y, alpha=0.01, num_iterations=10000):\n",
    "        '''\n",
    "        INPUT: GradientDescent, 2 dimensional numpy array, numpy array\n",
    "               float, int\n",
    "        OUTPUT: None\n",
    "\n",
    "        Run the gradient descent algorithm for num_iterations repititions. Use\n",
    "        the gradient method and the learning rate alpha to update the\n",
    "        coefficients at each iteration.\n",
    "        '''\n",
    "        \n",
    "        #Define my coeffs now that I know the shape of features\n",
    "        self.coeffs = np.zeros(X.shape[1])\n",
    "        #running through all interations until exhaustion\n",
    "        while num_iterations > 0:\n",
    "            #updating the coefficients\n",
    "            self.coeffs -= alpha * self.gradient(X, y, self.coeffs)\n",
    "            num_iterations -= 1\n",
    "        \n",
    "    def predict(self, X):\n",
    "        '''\n",
    "        INPUT: GradientDescent, 2 dimensional numpy array\n",
    "        OUTPUT: numpy array (ints)\n",
    "\n",
    "        Use the coeffs to compute the prediction for X. Return an array of 0's\n",
    "        and 1's.\n",
    "        '''\n",
    "        \n",
    "        return self.predict(X, self.coeffs)\n",
    "        "
   ]
  },
  {
   "cell_type": "code",
   "execution_count": null,
   "metadata": {
    "collapsed": true
   },
   "outputs": [],
   "source": []
  }
 ],
 "metadata": {
  "kernelspec": {
   "display_name": "Python 2",
   "language": "python",
   "name": "python2"
  },
  "language_info": {
   "codemirror_mode": {
    "name": "ipython",
    "version": 2
   },
   "file_extension": ".py",
   "mimetype": "text/x-python",
   "name": "python",
   "nbconvert_exporter": "python",
   "pygments_lexer": "ipython2",
   "version": "2.7.10"
  }
 },
 "nbformat": 4,
 "nbformat_minor": 0
}
